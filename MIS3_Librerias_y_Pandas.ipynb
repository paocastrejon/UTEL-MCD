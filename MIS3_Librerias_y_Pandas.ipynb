{
  "cells": [
    {
      "cell_type": "markdown",
      "metadata": {
        "id": "view-in-github",
        "colab_type": "text"
      },
      "source": [
        "<a href=\"https://colab.research.google.com/github/paocastrejon/UTEL-MCD/blob/main/MIS3_Librerias_y_Pandas.ipynb\" target=\"_parent\"><img src=\"https://colab.research.google.com/assets/colab-badge.svg\" alt=\"Open In Colab\"/></a>"
      ]
    },
    {
      "cell_type": "markdown",
      "id": "99712307",
      "metadata": {
        "id": "99712307"
      },
      "source": [
        "# Librerías y Pandas\n"
      ]
    },
    {
      "cell_type": "code",
      "execution_count": null,
      "id": "ff9ab376",
      "metadata": {
        "id": "ff9ab376"
      },
      "outputs": [],
      "source": [
        "# Importando la librería\n",
        "import pandas as pd"
      ]
    },
    {
      "cell_type": "markdown",
      "id": "e6ea637b",
      "metadata": {
        "id": "e6ea637b"
      },
      "source": [
        "### Las estructuras de datos en Pandas"
      ]
    },
    {
      "cell_type": "markdown",
      "id": "12088fae",
      "metadata": {
        "id": "12088fae"
      },
      "source": [
        "**Panda Series**"
      ]
    },
    {
      "cell_type": "code",
      "execution_count": null,
      "id": "bd18cee7",
      "metadata": {
        "id": "bd18cee7"
      },
      "outputs": [],
      "source": [
        "Serie_numeros = [20, 23, 26 ,29, 32 ,35, 38]\n",
        "df_serie = pd.Series(Serie_numeros)\n",
        "print(df_serie)"
      ]
    },
    {
      "cell_type": "markdown",
      "id": "bd1203c4",
      "metadata": {
        "id": "bd1203c4"
      },
      "source": [
        "**Panda Series**"
      ]
    },
    {
      "cell_type": "markdown",
      "id": "600ad386",
      "metadata": {
        "id": "600ad386"
      },
      "source": [
        "Tanto el arreglo de índices como el de valores pueden modificarse"
      ]
    },
    {
      "cell_type": "code",
      "execution_count": null,
      "id": "0704036a",
      "metadata": {
        "id": "0704036a"
      },
      "outputs": [],
      "source": [
        "indices = [1,2,3,4,5,6,7]\n",
        "df_serie_2 = pd.Series(Numeros,index=indices)\n",
        "df_serie_2"
      ]
    },
    {
      "cell_type": "markdown",
      "id": "54ce8d87",
      "metadata": {
        "id": "54ce8d87"
      },
      "source": [
        "**Panda Data Frame**"
      ]
    },
    {
      "cell_type": "markdown",
      "id": "10f00b47",
      "metadata": {
        "id": "10f00b47"
      },
      "source": [
        "Construyendo un Data Frame manualmente"
      ]
    },
    {
      "cell_type": "code",
      "execution_count": null,
      "id": "314b171b",
      "metadata": {
        "id": "314b171b"
      },
      "outputs": [],
      "source": [
        "data = { \"calorias\": [420,380, 390], \"duracion\": [30,40,50]}\n",
        "indice = [\"primer cliente\", \"segundo cliente\", \"tercer cliente\"]\n",
        "\n",
        "df = pd.DataFrame(data, index = indice)\n",
        "\n",
        "print(df)"
      ]
    },
    {
      "cell_type": "markdown",
      "id": "f4671d76",
      "metadata": {
        "id": "f4671d76"
      },
      "source": [
        "###  Elementos de los DataFrame"
      ]
    },
    {
      "cell_type": "markdown",
      "id": "8e720b79",
      "metadata": {
        "id": "8e720b79"
      },
      "source": [
        "También podemos seleccionar partes específicas del Data Frame, como índices, columnas y valores"
      ]
    },
    {
      "cell_type": "code",
      "execution_count": null,
      "id": "c6a8464f",
      "metadata": {
        "id": "c6a8464f"
      },
      "outputs": [],
      "source": [
        "df.index"
      ]
    },
    {
      "cell_type": "code",
      "execution_count": null,
      "id": "c8e8d88b",
      "metadata": {
        "id": "c8e8d88b"
      },
      "outputs": [],
      "source": [
        "df.columns"
      ]
    },
    {
      "cell_type": "code",
      "execution_count": null,
      "id": "7372a95f",
      "metadata": {
        "id": "7372a95f"
      },
      "outputs": [],
      "source": [
        "df.values"
      ]
    },
    {
      "cell_type": "code",
      "execution_count": null,
      "id": "d1a87e7c",
      "metadata": {
        "id": "d1a87e7c"
      },
      "outputs": [],
      "source": [
        "# Seleccionando columna\n",
        "df['calorias']"
      ]
    },
    {
      "cell_type": "code",
      "execution_count": null,
      "id": "06246962",
      "metadata": {
        "id": "06246962"
      },
      "outputs": [],
      "source": [
        "#Al seleccionar una columna, automáticamente lo entiende como pandas Series\n",
        "type(df['calorias'])"
      ]
    },
    {
      "cell_type": "code",
      "execution_count": null,
      "id": "7ff687e8",
      "metadata": {
        "id": "7ff687e8"
      },
      "outputs": [],
      "source": [
        "#Selección de fila\n",
        "df['calorias']"
      ]
    },
    {
      "cell_type": "code",
      "execution_count": null,
      "id": "8a4312b2",
      "metadata": {
        "id": "8a4312b2"
      },
      "outputs": [],
      "source": [
        "print(df)"
      ]
    },
    {
      "cell_type": "markdown",
      "id": "bf278aae",
      "metadata": {
        "id": "bf278aae"
      },
      "source": [
        "### Selección con condición"
      ]
    },
    {
      "cell_type": "markdown",
      "id": "0cf2d214",
      "metadata": {
        "id": "0cf2d214"
      },
      "source": [
        "Supongamos que necesitamos un listado de precios de aquellos autos con peso mayor a 3600"
      ]
    },
    {
      "cell_type": "code",
      "execution_count": null,
      "id": "b99aa8e4",
      "metadata": {
        "id": "b99aa8e4"
      },
      "outputs": [],
      "source": [
        "# Eñ truco es: df [condición, nombre_de_la_columna]\n",
        "df.loc[df.duracion <= 40,\"duracion\"]"
      ]
    },
    {
      "cell_type": "code",
      "execution_count": null,
      "id": "46337cd7",
      "metadata": {
        "id": "46337cd7"
      },
      "outputs": [],
      "source": [
        "df.loc[(df.duracion <= 40) & ((df.calorias >= 380)),:]"
      ]
    },
    {
      "cell_type": "markdown",
      "id": "d6bb845d",
      "metadata": {
        "id": "d6bb845d"
      },
      "source": [
        "### Metodos y Atributos"
      ]
    },
    {
      "cell_type": "markdown",
      "id": "c3732797",
      "metadata": {
        "id": "c3732797"
      },
      "source": [
        "Carga de datos"
      ]
    },
    {
      "cell_type": "code",
      "execution_count": null,
      "id": "3abe9a5f",
      "metadata": {
        "id": "3abe9a5f"
      },
      "outputs": [],
      "source": [
        "#https://www.kaggle.com/datasets/rounakbanik/pokemon\n",
        "df1 = pd.read_csv(\"C:/Users/mi13966/Downloads/pokemon.csv\")"
      ]
    },
    {
      "cell_type": "code",
      "execution_count": null,
      "id": "3f61cf01",
      "metadata": {
        "id": "3f61cf01"
      },
      "outputs": [],
      "source": [
        "df1.head()"
      ]
    },
    {
      "cell_type": "markdown",
      "id": "dbe71794",
      "metadata": {
        "id": "dbe71794"
      },
      "source": [
        "Atributos de pandas"
      ]
    },
    {
      "cell_type": "code",
      "execution_count": null,
      "id": "9d9e9d5c",
      "metadata": {
        "id": "9d9e9d5c"
      },
      "outputs": [],
      "source": [
        "df1.shape"
      ]
    },
    {
      "cell_type": "code",
      "execution_count": null,
      "id": "641ae119",
      "metadata": {
        "id": "641ae119"
      },
      "outputs": [],
      "source": [
        "df1.columns"
      ]
    },
    {
      "cell_type": "markdown",
      "id": "f66da90b",
      "metadata": {
        "id": "f66da90b"
      },
      "source": [
        "Metodos de pandas"
      ]
    },
    {
      "cell_type": "code",
      "execution_count": null,
      "id": "abd46b22",
      "metadata": {
        "id": "abd46b22"
      },
      "outputs": [],
      "source": [
        "df1['type1'].value_counts()"
      ]
    },
    {
      "cell_type": "code",
      "execution_count": null,
      "id": "889a1d03",
      "metadata": {
        "id": "889a1d03"
      },
      "outputs": [],
      "source": [
        "df1.describe()"
      ]
    },
    {
      "cell_type": "code",
      "execution_count": null,
      "id": "d8fe6d09",
      "metadata": {
        "scrolled": true,
        "id": "d8fe6d09"
      },
      "outputs": [],
      "source": [
        "df1.describe().T"
      ]
    },
    {
      "cell_type": "code",
      "execution_count": null,
      "id": "d2433431",
      "metadata": {
        "scrolled": true,
        "id": "d2433431"
      },
      "outputs": [],
      "source": [
        "df1.isnull().sum()"
      ]
    },
    {
      "cell_type": "code",
      "execution_count": null,
      "id": "7cc6f459",
      "metadata": {
        "scrolled": true,
        "id": "7cc6f459"
      },
      "outputs": [],
      "source": [
        "df1.drop_duplicates()"
      ]
    },
    {
      "cell_type": "markdown",
      "id": "8ed3ba19",
      "metadata": {
        "id": "8ed3ba19"
      },
      "source": [
        "Visualizaciones en pandas"
      ]
    },
    {
      "cell_type": "code",
      "execution_count": null,
      "id": "16f0cb02",
      "metadata": {
        "id": "16f0cb02"
      },
      "outputs": [],
      "source": [
        "df1['type1'].value_counts().plot.bar()"
      ]
    },
    {
      "cell_type": "code",
      "execution_count": null,
      "id": "43a520ad",
      "metadata": {
        "id": "43a520ad"
      },
      "outputs": [],
      "source": [
        "df1['hp'].value_counts().sort_index().plot.line()"
      ]
    },
    {
      "cell_type": "code",
      "execution_count": null,
      "id": "f420f0b9",
      "metadata": {
        "id": "f420f0b9"
      },
      "outputs": [],
      "source": [
        "df1['weight_kg'].plot.hist()"
      ]
    }
  ],
  "metadata": {
    "colab": {
      "provenance": [],
      "include_colab_link": true
    },
    "kernelspec": {
      "display_name": "Python 3 (ipykernel)",
      "language": "python",
      "name": "python3"
    },
    "language_info": {
      "codemirror_mode": {
        "name": "ipython",
        "version": 3
      },
      "file_extension": ".py",
      "mimetype": "text/x-python",
      "name": "python",
      "nbconvert_exporter": "python",
      "pygments_lexer": "ipython3",
      "version": "3.9.7"
    }
  },
  "nbformat": 4,
  "nbformat_minor": 5
}