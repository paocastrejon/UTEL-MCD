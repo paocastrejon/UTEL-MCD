{
  "cells": [
    {
      "cell_type": "markdown",
      "metadata": {
        "id": "view-in-github",
        "colab_type": "text"
      },
      "source": [
        "<a href=\"https://colab.research.google.com/github/paocastrejon/UTEL-MCD/blob/main/MIS2_Funciones_y_Estructuras_de_Control.ipynb\" target=\"_parent\"><img src=\"https://colab.research.google.com/assets/colab-badge.svg\" alt=\"Open In Colab\"/></a>"
      ]
    },
    {
      "cell_type": "markdown",
      "metadata": {
        "id": "b8pyKSIeerIZ"
      },
      "source": [
        "#Funciones y Estructuras de Control: Bucles y condiciones.\n"
      ]
    },
    {
      "cell_type": "markdown",
      "metadata": {
        "id": "CeivFPjFerIm"
      },
      "source": [
        "### Funciones, argumentos y retorno"
      ]
    },
    {
      "cell_type": "markdown",
      "metadata": {
        "id": "k2xB2HSLerIm"
      },
      "source": [
        "Las funciones tienen al menos 3 elementos:\n",
        "* El nombre de la función\n",
        "* Cero o más argumentos (variables de entrada)\n",
        "* Un valor de retorno (salida de la función)"
      ]
    },
    {
      "cell_type": "code",
      "execution_count": null,
      "metadata": {
        "id": "Y8uQHtPferIm",
        "colab": {
          "base_uri": "https://localhost:8080/"
        },
        "outputId": "b76b0167-4f7c-499e-86f4-7b94ff552b14"
      },
      "outputs": [
        {
          "output_type": "stream",
          "name": "stdout",
          "text": [
            "5\n"
          ]
        }
      ],
      "source": [
        "def suma(x,y):  # aquí definimos una función propia con argumentos x , y\n",
        "    z = x + y   # la función suma los valores x , y, también asigna resultado a z\n",
        "    return z    # el valor de retorno es z\n",
        "\n",
        "resultado = suma(2,3) # aplicamos la función definida a los números 2 y 3\n",
        "                # y guardamos el resultado en res\n",
        "print (resultado)     # mostramos el resultado: 2 + 3 = 5"
      ]
    },
    {
      "cell_type": "code",
      "source": [
        "def resta(g,h):\n",
        "  b = g-h\n",
        "  return b"
      ],
      "metadata": {
        "id": "sgFlVewc8-YS"
      },
      "execution_count": null,
      "outputs": []
    },
    {
      "cell_type": "code",
      "source": [
        "resta(5,9)"
      ],
      "metadata": {
        "colab": {
          "base_uri": "https://localhost:8080/"
        },
        "id": "LR-bZxTc9TTj",
        "outputId": "ff29c9f9-1794-4adc-b843-55aca88efb04"
      },
      "execution_count": null,
      "outputs": [
        {
          "output_type": "execute_result",
          "data": {
            "text/plain": [
              "-4"
            ]
          },
          "metadata": {},
          "execution_count": 10
        }
      ]
    },
    {
      "cell_type": "code",
      "source": [
        "x = 4\n",
        "y = 8\n",
        "res = resta(x,y)\n",
        "print(\"El resultado de resta es: \", res )"
      ],
      "metadata": {
        "colab": {
          "base_uri": "https://localhost:8080/"
        },
        "id": "sKXmYpQP9awn",
        "outputId": "49af8a71-ecec-471f-f4ac-a4802d16320b"
      },
      "execution_count": null,
      "outputs": [
        {
          "output_type": "stream",
          "name": "stdout",
          "text": [
            "El resultado de resta es:  -4\n"
          ]
        }
      ]
    },
    {
      "cell_type": "markdown",
      "metadata": {
        "id": "xy69ACSFerIk"
      },
      "source": [
        "### ESTRUCTURAS DE CONTROL:\n",
        "FOR, WHILE, IF\n"
      ]
    },
    {
      "cell_type": "code",
      "source": [
        "if 4>=8:\n",
        "  print(\"efectivamente el resultado del if es....\")\n",
        "\n",
        "else:\n",
        "  print(\"el resultado es...\")"
      ],
      "metadata": {
        "colab": {
          "base_uri": "https://localhost:8080/"
        },
        "id": "oyg9rSkB-ToL",
        "outputId": "693e1f17-829e-4e06-827a-ad48584717fa"
      },
      "execution_count": null,
      "outputs": [
        {
          "output_type": "stream",
          "name": "stdout",
          "text": [
            "el resultado es...\n"
          ]
        }
      ]
    },
    {
      "cell_type": "markdown",
      "metadata": {
        "id": "nmxfFk4LerIk"
      },
      "source": [
        "Estructura condicional (IF)"
      ]
    },
    {
      "cell_type": "code",
      "execution_count": null,
      "metadata": {
        "id": "VIbxTlS-erIk",
        "colab": {
          "base_uri": "https://localhost:8080/"
        },
        "outputId": "fdf8d49b-2fec-4f10-cbbc-d5425bf3d3df"
      },
      "outputs": [
        {
          "output_type": "stream",
          "name": "stdout",
          "text": [
            "10 es 10\n"
          ]
        }
      ],
      "source": [
        "# 1. Intenta cambiar x por 5\n",
        "# 2. Intenta cambiar x por 10\n",
        "# 3. Intenta cambiar x por 100\n",
        "\n",
        "x = 10\n",
        "if x < 10:                     # Pregunto si x es menor a 10\n",
        "    print(x, \"es menor a 10\")   # Si es así, muestro mensaje\n",
        "elif x > 10:                    # Si no es así, pregunto si x es mayor\n",
        "    print(x, \"es mayor a 10\")   # a 10 y si es así, muestro mensaje\n",
        "else:                           # Si nada de lo anterior se\n",
        "    print(x, \"es 10\")           # cumple, ejecuto esto\n"
      ]
    },
    {
      "cell_type": "markdown",
      "metadata": {
        "id": "vx_Ko7YJerIk"
      },
      "source": [
        "#### Estructura FOR"
      ]
    },
    {
      "cell_type": "markdown",
      "metadata": {
        "id": "w9cCy1dlerIl"
      },
      "source": [
        "Primera forma"
      ]
    },
    {
      "cell_type": "code",
      "execution_count": null,
      "metadata": {
        "id": "_lUPkzP-erIl",
        "colab": {
          "base_uri": "https://localhost:8080/"
        },
        "outputId": "f1a4b8e5-b375-4337-ef13-47b524646763"
      },
      "outputs": [
        {
          "output_type": "stream",
          "name": "stdout",
          "text": [
            "1\n",
            "2\n",
            "3\n",
            "4\n",
            "5\n",
            "6\n",
            "7\n",
            "8\n",
            "9\n"
          ]
        }
      ],
      "source": [
        "for i in range(1,10):\n",
        "    print(i)\n"
      ]
    },
    {
      "cell_type": "markdown",
      "metadata": {
        "id": "fFEHoMA9erIl"
      },
      "source": [
        "Segunda Forma"
      ]
    },
    {
      "cell_type": "code",
      "execution_count": null,
      "metadata": {
        "id": "sJHgr6xuerIl",
        "colab": {
          "base_uri": "https://localhost:8080/"
        },
        "outputId": "96f5387e-47f3-404a-cbbc-a8a612378696"
      },
      "outputs": [
        {
          "output_type": "stream",
          "name": "stdout",
          "text": [
            "1\n",
            "4\n",
            "6\n",
            "2\n"
          ]
        }
      ],
      "source": [
        "for a in [1,4,6,2]:\n",
        "    print(a)\n"
      ]
    },
    {
      "cell_type": "markdown",
      "metadata": {
        "id": "_6YmjfioerIl"
      },
      "source": [
        "Combina utiliza For con condicional If"
      ]
    },
    {
      "cell_type": "code",
      "execution_count": null,
      "metadata": {
        "id": "ZDDs3f7LerIl",
        "colab": {
          "base_uri": "https://localhost:8080/"
        },
        "outputId": "d1ca4e41-1026-4e73-a177-a9b8cba03499"
      },
      "outputs": [
        {
          "output_type": "stream",
          "name": "stdout",
          "text": [
            "Es par 2\n",
            "Es par 4\n",
            "Es par 6\n",
            "No es par 7\n"
          ]
        }
      ],
      "source": [
        "# 1. Evalua si el valor dentro de la lista es par\n",
        "# 2. Utiliza el operador modulo %\n",
        "# 3. Recuerda utilizar i\n",
        "\n",
        "for i in [2,4,6,7]:\n",
        "    if  i%2== 0:\n",
        "        print(\"Es par {}\".format(i))\n",
        "    else:\n",
        "        print(\"No es par {}\".format(i))"
      ]
    },
    {
      "cell_type": "markdown",
      "metadata": {
        "id": "V-DVq_lOerIl"
      },
      "source": [
        "#### Estructura WHILE\n",
        "Repite una secuencia de comandos “mientras” una condición se cumpla. Cuando la condición no se cumple más, termina la repetición."
      ]
    },
    {
      "cell_type": "code",
      "execution_count": null,
      "metadata": {
        "id": "nvj5L34eerIm",
        "colab": {
          "base_uri": "https://localhost:8080/"
        },
        "outputId": "9e1ee366-0b3c-4ded-a71e-81a5d55c857b"
      },
      "outputs": [
        {
          "output_type": "stream",
          "name": "stdout",
          "text": [
            "1\n",
            "2\n",
            "3\n",
            "4\n"
          ]
        }
      ],
      "source": [
        "i = 1\n",
        "while i < 5:   # el código luego de los dos puntos se ejecuta\n",
        "    print(i)        # mientras i es menor a 10.\n",
        "    i=i+1          #i=i+1  # cuando i llega a 10 termina la ejecución"
      ]
    },
    {
      "cell_type": "markdown",
      "metadata": {
        "id": "g1GqMiuHerIm"
      },
      "source": [
        "Siempre pongan un incremental en el While!"
      ]
    },
    {
      "cell_type": "markdown",
      "metadata": {
        "id": "RSG2w6QberIm"
      },
      "source": [
        "## Ejercicio\n"
      ]
    },
    {
      "cell_type": "code",
      "execution_count": null,
      "metadata": {
        "id": "YRYehiWmerIm",
        "colab": {
          "base_uri": "https://localhost:8080/"
        },
        "outputId": "b3325231-9fa7-4570-f12f-7697c8a830b2"
      },
      "outputs": [
        {
          "output_type": "stream",
          "name": "stdout",
          "text": [
            "Resultado del factorial es:  120\n"
          ]
        }
      ],
      "source": [
        "# Ejercicio 1.\n",
        "# Se busca el factorial de x = 5!---> 1*2*3*4*5\n",
        "# Se va a requerir un for usando un range\n",
        "# Recuerden usar los operadores aritméticos de la clase 1.\n",
        "# Reemplazar ___ por la respuesta\n",
        "\n",
        "fac = 1\n",
        "\n",
        "for i in range(1,6):\n",
        "  fac =  fac * i\n",
        "  # fac= 1*1 Primer instruccion iterativa\n",
        "  # 1(fac) * 2(i) = 2 Segunda instrucción iterativa\n",
        "  # 2(fac) * 3(i) = 6 Tercer instrucción iterativa\n",
        "  # 6 (fac) * 4 (i) =  24 Cuarta instrucción iterativa\n",
        "  # 24 (fac) * 5 (i) = 120\n",
        "\n",
        "\n",
        "print(\"Resultado del factorial es: \", fac)"
      ]
    },
    {
      "cell_type": "code",
      "execution_count": null,
      "metadata": {
        "scrolled": true,
        "id": "LSjq6m4YerIm",
        "colab": {
          "base_uri": "https://localhost:8080/"
        },
        "outputId": "dc6e264b-1de7-489a-fb7e-a983fc1a69e7"
      },
      "outputs": [
        {
          "output_type": "stream",
          "name": "stdout",
          "text": [
            "1 0\n",
            "2 1\n",
            "3 3\n",
            "4 6\n",
            "5 10\n",
            "6 15\n",
            "7 21\n",
            "8 28\n",
            "9 36\n",
            "10 45\n",
            "11 55\n",
            "12 66\n",
            "13 78\n",
            "14 91\n",
            "15 105\n",
            "16 120\n",
            "17 136\n",
            "18 153\n",
            "19 171\n",
            "20 190\n",
            "21 210\n",
            "22 231\n",
            "23 253\n",
            "24 276\n",
            "25 300\n",
            "26 325\n",
            "27 351\n",
            "28 378\n",
            "29 406\n",
            "30 435\n",
            "31 465\n",
            "32 496\n",
            "33 528\n",
            "34 561\n",
            "35 595\n",
            "36 630\n",
            "37 666\n",
            "38 703\n",
            "39 741\n",
            "40 780\n",
            "41 820\n",
            "42 861\n",
            "43 903\n",
            "44 946\n",
            "45 990\n",
            "46 1035\n",
            "47 1081\n",
            "48 1128\n",
            "49 1176\n",
            "50 1225\n",
            "51 1275\n",
            "52 1326\n",
            "53 1378\n",
            "54 1431\n",
            "55 1485\n",
            "56 1540\n",
            "57 1596\n",
            "58 1653\n",
            "59 1711\n",
            "60 1770\n",
            "61 1830\n",
            "62 1891\n",
            "63 1953\n",
            "64 2016\n",
            "65 2080\n",
            "66 2145\n",
            "67 2211\n",
            "68 2278\n",
            "69 2346\n",
            "70 2415\n",
            "71 2485\n",
            "72 2556\n",
            "73 2628\n",
            "74 2701\n",
            "75 2775\n",
            "76 2850\n",
            "77 2926\n",
            "78 3003\n",
            "79 3081\n",
            "80 3160\n",
            "81 3240\n",
            "82 3321\n",
            "83 3403\n",
            "84 3486\n",
            "85 3570\n",
            "86 3655\n",
            "87 3741\n",
            "88 3828\n",
            "89 3916\n",
            "90 4005\n",
            "91 4095\n",
            "92 4186\n",
            "93 4278\n",
            "94 4371\n",
            "95 4465\n",
            "96 4560\n",
            "97 4656\n",
            "98 4753\n",
            "99 4851\n",
            "100 4950\n",
            "Resultado de la suma es:  5050\n"
          ]
        }
      ],
      "source": [
        "# Ejercicio 2.\n",
        "# Se suma  1 al 100 por ejemplo: 1+2+3+4+5... +100\n",
        "# Se va a requerir un for usando un range\n",
        "# Reemplazar ___ por la respuesta\n",
        "\n",
        "suma = 0\n",
        "\n",
        "for i in range(1,101):\n",
        "    print(i,suma)\n",
        "    suma = suma +i\n",
        "\n",
        "print(\"Resultado de la suma es: \",suma)"
      ]
    }
  ],
  "metadata": {
    "kernelspec": {
      "display_name": "Python 3 (ipykernel)",
      "language": "python",
      "name": "python3"
    },
    "language_info": {
      "codemirror_mode": {
        "name": "ipython",
        "version": 3
      },
      "file_extension": ".py",
      "mimetype": "text/x-python",
      "name": "python",
      "nbconvert_exporter": "python",
      "pygments_lexer": "ipython3",
      "version": "3.9.7"
    },
    "colab": {
      "provenance": [],
      "include_colab_link": true
    }
  },
  "nbformat": 4,
  "nbformat_minor": 0
}