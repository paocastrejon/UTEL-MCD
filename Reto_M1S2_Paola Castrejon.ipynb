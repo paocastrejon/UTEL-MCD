{
  "nbformat": 4,
  "nbformat_minor": 0,
  "metadata": {
    "colab": {
      "provenance": [],
      "include_colab_link": true
    },
    "kernelspec": {
      "name": "python3",
      "display_name": "Python 3"
    },
    "language_info": {
      "name": "python"
    }
  },
  "cells": [
    {
      "cell_type": "markdown",
      "metadata": {
        "id": "view-in-github",
        "colab_type": "text"
      },
      "source": [
        "<a href=\"https://colab.research.google.com/github/paocastrejon/UTEL-MCD/blob/main/Reto_M1S2_Paola%20Castrejon.ipynb\" target=\"_parent\"><img src=\"https://colab.research.google.com/assets/colab-badge.svg\" alt=\"Open In Colab\"/></a>"
      ]
    },
    {
      "cell_type": "markdown",
      "source": [
        "# Retos MIS2 Fundamentos Ciencia de Datos.\n",
        "\n",
        "## Reto Número 1.\n",
        "\n",
        "Hola te doy la bienvenida a tu reto, recuerda que:\n",
        "\n",
        "1.\tDebes realizar una copia de este Colab en tu Drive personal.\n",
        "2.\tResuelve el reto en la copia que realizaste.\n",
        "3.\tEnvía la liga pública de tu reto resuelto a través del canal general.\n",
        "\n",
        "Para este reto, por favor, realiza una función donde generes el siguiente número de la sucesión [Fibonacci](https://www.eade.es/blog/186-la-sucesion-de-fibonacci-en-el-diseno#:~:text=Se%20trata%20de%20una%20secuencia,%2C%2021%2C%2034%2C%2055%E2%80%A6) a partir del 0 y el 1, se van sumando a pares, de manera que cada número es igual a la suma de sus dos anteriores, de manera que:\n",
        "\n",
        "0, 1, 1, 2, 3, 5, 8, 13, 21, 34, 55…\n",
        "\n",
        "Integra en la función Fibonacci un ciclo **for**, donde genere los primeros números de la secuencia fibo. Recuerda poner un **print**\n",
        "\n",
        "Tip: Sera necesario usar un **if** y **else** para cumplir tal propósito."
      ],
      "metadata": {
        "id": "SibvTVgctQrQ"
      }
    },
    {
      "cell_type": "code",
      "source": [
        "# Responder en los espacios ___\n",
        "#1 ) Genera un range de 1 a N, recuerda que el último es excluyente por lo que deberas aumentarle un +1.\n",
        "#2 ) Generar un condición donde el primer ciclo solo se sume un +1.\n",
        "#3 ) Sumar las últimos dos elementos de la lista para que así se cumpla la secuencia Fibonacci.\n",
        "#4 ) Si queremos acceder al último elemento de una lista[-1], si queremos acceder al penúltimo elemento de una lista[-2] y así sucesivamente...\n",
        "\n",
        "def fibonacci(a):\n",
        "  respuesta = 0\n",
        "  lista = [0]\n",
        "  for i in ___:\n",
        "    if _____:\n",
        "      respuesta = lista[-1] + 1\n",
        "    else:\n",
        "      respuesta = ___ + ____\n",
        "\n",
        "    lista.append(respuesta)\n",
        "    print(respuesta)\n",
        "\n",
        "  return respuesta\n"
      ],
      "metadata": {
        "id": "ayvxoVtQtLZx"
      },
      "execution_count": null,
      "outputs": []
    },
    {
      "cell_type": "code",
      "source": [
        "# Correr la función con el número 9.\n",
        "fibonacci(9)"
      ],
      "metadata": {
        "id": "ijkXSzcpvo-y"
      },
      "execution_count": null,
      "outputs": []
    },
    {
      "cell_type": "markdown",
      "source": [
        "## Reto Número 2.\n",
        "Integra en la función Fibonacci un **while** en vez del **for** y que termine hasta que la respuesta final de la secuencia Fibonacci sea mayor de 150."
      ],
      "metadata": {
        "id": "Kpyy8mb-1jw0"
      }
    },
    {
      "cell_type": "code",
      "source": [
        "# Responder en los espacios ___\n",
        "# 1) Genera un fibonacci donde la variable \"a\" sea menor que el resultado final del fibo y termine hasta ahí.\n",
        "\n",
        "def fibonacci(a):\n",
        "  respuesta = 0\n",
        "  lista = [0]\n",
        "  ____ ____:\n",
        "    if respuesta == 0:\n",
        "      respuesta = lista[-1] + 1\n",
        "    else:\n",
        "      respuesta = lista[-1] + lista[-2]\n",
        "\n",
        "    lista.append(respuesta)\n",
        "    print(respuesta)\n",
        "\n",
        "  return respuesta"
      ],
      "metadata": {
        "id": "o63QlE2z1_Vm"
      },
      "execution_count": null,
      "outputs": []
    },
    {
      "cell_type": "code",
      "source": [
        "fibonacci(150)"
      ],
      "metadata": {
        "id": "YgEHw-bz2uEP"
      },
      "execution_count": null,
      "outputs": []
    },
    {
      "cell_type": "markdown",
      "source": [
        "### 1. Reto Alto Nivel (Opcional)\n",
        "Para cada cuadro del tablero de ajedrez, cuántos granos de trigo se usan cuando se duplica: 1 grano para el primer cuadro, 2 granos para el segundo cuadro, 4 granos para el tercer cuadro, etc. Realiza el calculo correspondiente."
      ],
      "metadata": {
        "id": "CtKGyxOWX9rB"
      }
    },
    {
      "cell_type": "markdown",
      "source": [
        "### 2. Reto Alto Nivel (Opcional)\n",
        "Crear una función que dado un año, diga si es bisiesto.\n",
        "\n",
        "Podemos consultar la Wikipedia para saber qué años son bisiestos.\n",
        "https://es.wikipedia.org/wiki/A%C3%B1o_bisiesto\n",
        "\n",
        "Como puedes ver, existe una regla general  de que los años deben ser bisiestos (son múltiplos de 4), pero hay excepciones a esta regla general (los años terminan en 00, por lo que al final del año en este caso, el año no es un año bisiesto, pero con la última excepción de la excepción anterior (donde el año es un múltiplo de 400), el año es un año bisiesto\n",
        "Por ejemplo, los años 2100, 2200 y 2300 no son años bisiestos, pero  2400 es un año bisiesto.\n",
        "\n",
        "\n",
        "\n",
        "\n",
        "\n",
        "\n",
        "\n",
        "\n"
      ],
      "metadata": {
        "id": "3doFKVDLYDaT"
      }
    },
    {
      "cell_type": "markdown",
      "source": [
        "Eso es todo por ahora, no olvides socializar tus respuestas en el *canal general * y consultar a tu coach cualquier duda que tengas.\n",
        "¡Que tengas mucho éxito!\n"
      ],
      "metadata": {
        "id": "g_mQI0xi7Brg"
      }
    }
  ]
}